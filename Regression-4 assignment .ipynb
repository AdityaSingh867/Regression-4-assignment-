{
 "cells": [
  {
   "cell_type": "markdown",
   "id": "0cc73a2d-05d7-4d2e-84f3-a4f74afb3f15",
   "metadata": {},
   "source": [
    "Q1. What is Lasso Regression, and how does it differ from other regression techniques?"
   ]
  },
  {
   "cell_type": "markdown",
   "id": "05852758-532b-4641-a33f-262904105358",
   "metadata": {},
   "source": [
    "Lasso Regression is way to Feature selection , Lasso Regression is aslo called (  L1 regularization )\n",
    "\n",
    "ridge regression takes the square of the coefficients and lasso takes the magnitude"
   ]
  },
  {
   "cell_type": "markdown",
   "id": "dce7730f-c613-4e63-b2c5-f7b811aa444a",
   "metadata": {},
   "source": [
    "Q2. What is the main advantage of using Lasso Regression in feature selection?"
   ]
  },
  {
   "cell_type": "markdown",
   "id": "6ea3e692-30ac-48fa-aaea-d3191eed9d89",
   "metadata": {},
   "source": [
    "Lasso reduce the coffecient , feature which not good related to the output of the model , for this the accuracy of model is increase this is the main Advantage of Lasso Regression."
   ]
  },
  {
   "cell_type": "markdown",
   "id": "24e6f2ef-17d7-4caa-9f5a-adf22789e39b",
   "metadata": {},
   "source": [
    "Q3. How do you interpret the coefficients of a Lasso Regression model?"
   ]
  },
  {
   "cell_type": "markdown",
   "id": "6f3538fa-562d-4d4f-8435-c933616fe609",
   "metadata": {},
   "source": [
    "The number of non-zero coefficients can be used to evaluate the effectiveness of the regularization and feature selection."
   ]
  },
  {
   "cell_type": "markdown",
   "id": "ccd589a5-fcc2-43e3-be85-9d56761cf1ae",
   "metadata": {},
   "source": [
    "Q4. What are the tuning parameters that can be adjusted in Lasso Regression, and how do they affect the\n",
    "model's performance?"
   ]
  },
  {
   "cell_type": "markdown",
   "id": "90dde30e-53ed-41f1-9eb8-c2d567020d8e",
   "metadata": {},
   "source": [
    "A tuning parameter (λ) sometomes is called as a penalty parameter.\n",
    "\n",
    "λ affect the model Performance , because λ helps to reduce the non related feature from dataset , for this the performance of model is increasing and accuracy of model is also increasing."
   ]
  },
  {
   "cell_type": "markdown",
   "id": "8e12da52-a4f0-4b1b-81ef-d51952b8243e",
   "metadata": {},
   "source": [
    "Q5. Can Lasso Regression be used for non-linear regression problems? If yes, how?"
   ]
  },
  {
   "cell_type": "markdown",
   "id": "a61b4fe8-f62e-4ca1-a8bb-6ccd5be7cd3f",
   "metadata": {},
   "source": [
    "Yes we did Lasso Regression in non - Linear Regression but it requires some modifications , but in General we can't use the Lasso Regression for non-linear Regression."
   ]
  },
  {
   "cell_type": "markdown",
   "id": "a270d15a-685c-4376-9cb6-54aa425de694",
   "metadata": {},
   "source": [
    "Q6. What is the difference between Ridge Regression and Lasso Regression?"
   ]
  },
  {
   "cell_type": "markdown",
   "id": "7ecbb6b6-9006-4618-b643-cf433f3a161d",
   "metadata": {},
   "source": [
    "Ridge Regression is use for Overfitting , but Lasso Regression is use for Feature selection."
   ]
  },
  {
   "cell_type": "markdown",
   "id": "e2376fe7-5cac-47dd-b495-e1714ba3912c",
   "metadata": {},
   "source": [
    "Q7. Can Lasso Regression handle multicollinearity in the input features? If yes, how?"
   ]
  },
  {
   "cell_type": "markdown",
   "id": "5f82cd3f-9514-4e30-8789-0909f47096f9",
   "metadata": {},
   "source": [
    "Yes , LASSO Regression can handle multicollinearity."
   ]
  },
  {
   "cell_type": "markdown",
   "id": "7486c2a9-c7ce-46da-8bb4-89d51db72c1e",
   "metadata": {},
   "source": [
    "Multicollinearity occurs when two or more input features are highly correlated, making it difficult for the model to distinguish the individual effect of each feature on the target variable. Lasso Regression addresses multicollinearity by using L1 regularization, which encourages sparsity in the model coefficients."
   ]
  },
  {
   "cell_type": "markdown",
   "id": "2a7d9acb-65ab-4483-b937-fd5fc7a2a090",
   "metadata": {},
   "source": [
    "Q8. How do you choose the optimal value of the regularization parameter (lambda) in Lasso Regression?"
   ]
  },
  {
   "cell_type": "markdown",
   "id": "9501073e-19a6-4b5e-bdc8-38a99a82c0a9",
   "metadata": {},
   "source": [
    "cross-validation is considered as the most reliable method for selecting the optimal value of lambda in Lasso Regression."
   ]
  }
 ],
 "metadata": {
  "kernelspec": {
   "display_name": "Python 3 (ipykernel)",
   "language": "python",
   "name": "python3"
  },
  "language_info": {
   "codemirror_mode": {
    "name": "ipython",
    "version": 3
   },
   "file_extension": ".py",
   "mimetype": "text/x-python",
   "name": "python",
   "nbconvert_exporter": "python",
   "pygments_lexer": "ipython3",
   "version": "3.10.8"
  }
 },
 "nbformat": 4,
 "nbformat_minor": 5
}
